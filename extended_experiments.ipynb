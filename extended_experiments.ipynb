{
 "cells": [
  {
   "cell_type": "markdown",
   "metadata": {},
   "source": [
    "## Extension - investigating the size of disease subclusters"
   ]
  },
  {
   "cell_type": "markdown",
   "metadata": {},
   "source": [
    "### Setup\n",
    "\n",
    "Adjust the variables below as desired."
   ]
  },
  {
   "cell_type": "code",
   "execution_count": 1,
   "metadata": {},
   "outputs": [],
   "source": [
    "# The number of iterations to perform (training -> explaining -> finding subclusters)\n",
    "big_loop_iterations = 10\n",
    "\n",
    "# The number of times the explainer should be run in a single iteration (recommended: 10)\n",
    "explainer_runs = 10\n",
    "\n",
    "# Top n subclusters whose size will be analysed\n",
    "n = 5\n",
    "\n",
    "# Path to store the resulting files\n",
    "filepath = \"6_Jun_subclusters\"\n",
    "\n",
    "# Set up directory for result files\n",
    "import os\n",
    "dir = f'./results_{filepath}'\n",
    "if not os.path.exists(dir):\n",
    "    os.mkdir(dir)"
   ]
  },
  {
   "cell_type": "markdown",
   "metadata": {},
   "source": [
    "### Load dataset\n",
    "\n",
    "The synthetic dataset can be used for testing during development. The KIRC dataset is used for the experiment."
   ]
  },
  {
   "cell_type": "code",
   "execution_count": 2,
   "metadata": {},
   "outputs": [
    {
     "name": "stdout",
     "output_type": "stream",
     "text": [
      "Graph is connected  False\n",
      "Calculate subgraph ...\n",
      "Number of subgraphs:  118\n",
      "Size of subgraph:  2049\n",
      "Graph is connected  True\n",
      "##################\n",
      "# DATASET LOADED #\n",
      "##################\n",
      "\n",
      "Number of nodes: 2049\n",
      "Number of edges: 13588\n",
      "Number of modalities: 2\n"
     ]
    }
   ],
   "source": [
    "from GNNSubNet import GNNSubNet as gnn\n",
    "import pandas as pd\n",
    "import numpy as np\n",
    "\n",
    "# # Kidney data set  ------------------------- #\n",
    "loc   = \"GNNSubNet/datasets/kirc/\"\n",
    "ppi   = f'{loc}/KIDNEY_RANDOM_PPI.txt'\n",
    "feats = [f'{loc}/KIDNEY_RANDOM_Methy_FEATURES.txt', f'{loc}/KIDNEY_RANDOM_mRNA_FEATURES.txt']\n",
    "targ  = f'{loc}/KIDNEY_RANDOM_TARGET.txt'\n",
    "\n",
    "# Synthetic data set  ------------------------- #\n",
    "# loc   = \"GNNSubNet/datasets/synthetic/\"\n",
    "# ppi   = f'{loc}/NETWORK_synthetic.txt'\n",
    "# feats = [f'{loc}/FEATURES_synthetic.txt']\n",
    "# targ  = f'{loc}/TARGET_synthetic.txt'\n",
    "\n",
    "# Read in the synthetic data\n",
    "g = gnn.GNNSubNet(loc, ppi, feats, targ, normalize=False)\n",
    "\n",
    "# Get some general information about the data dimension\n",
    "g.summary()"
   ]
  },
  {
   "cell_type": "markdown",
   "metadata": {},
   "source": [
    "### Run\n",
    "\n",
    "For the given number of big_loop_iterations, this cell trains the GNN model, runs the explainer to find the global explanation, and performs disease subnetwork detection. \n",
    "\n",
    "The modules found and the list of module importances in each iteration are saved in the results folder, these can be used for further analysis.\n",
    "\n",
    "NB: running on KIRC data for 10 iterations can take 1 to 2 hours!\n",
    "\n",
    "NB: this cell only saves the modules and module importances. The cell below this saves the table of results (containing the sizes of each subcluster). Ensure that both cells are run together to obtain the full results."
   ]
  },
  {
   "cell_type": "code",
   "execution_count": null,
   "metadata": {},
   "outputs": [],
   "source": [
    "accuracies = []\n",
    "\n",
    "# number of modules\n",
    "number_of_modules_found = []\n",
    "# size of the top n modules\n",
    "module_sizes = np.zeros((big_loop_iterations, n))\n",
    "\n",
    "for i in range(big_loop_iterations):\n",
    "    g = gnn.GNNSubNet(loc, ppi, feats, targ, normalize=False)\n",
    "    g.train()\n",
    "    accuracies.append(g.accuracy)\n",
    "    g.explain(explainer_runs)\n",
    "\n",
    "    # Save the actual modules and module importances to file\n",
    "    filename = f\"results_{filepath}/{i}_module_importances.csv\"\n",
    "    np.savetxt(filename, g.module_importances, delimiter = \",\", fmt ='% s')\n",
    "    filename = f\"results_{filepath}/{i}_modules.csv\"\n",
    "    f = open(filename, \"a\")\n",
    "    for m in range(len(g.modules)):\n",
    "        f.write(\",\".join(str(x) for x in g.modules[m]))\n",
    "        f.write(\"\\n\")\n",
    "    f.close()\n",
    "\n",
    "    # Add number of modules found to the list\n",
    "    number_of_modules_found.append(len(g.modules))\n",
    "    \n",
    "    # Take the top n most important modules, \n",
    "    # and add their sizes to the list\n",
    "    sorted_indices = np.argsort(g.module_importances)[::-1][:n]\n",
    "    for (j, idx) in enumerate(sorted_indices):\n",
    "        module_sizes[i][j] = (len(g.modules[idx]))"
   ]
  },
  {
   "cell_type": "markdown",
   "metadata": {},
   "source": [
    "### Results\n",
    "\n",
    "Save a single file, subcluster_sizes.csv, which contains the sizes of the top n subclusters found in each iteration."
   ]
  },
  {
   "cell_type": "code",
   "execution_count": 25,
   "metadata": {},
   "outputs": [],
   "source": [
    "import pandas as pd\n",
    "columns = [f\"size_of_module_{i}\" for i in range(n)]\n",
    "df = pd.DataFrame(module_sizes, columns=columns)\n",
    "df.to_csv(f\"results_{filepath}/subcluster_sizes.csv\", index=False)\n",
    "\n",
    "pd.DataFrame(accuracies).to_csv(f\"results_{filepath}/accuracies.csv\", index=False)\n",
    "pd.DataFrame(number_of_modules_found).to_csv(f\"results_{filepath}/number_of_modules_found.csv\", index=False)"
   ]
  },
  {
   "cell_type": "markdown",
   "metadata": {},
   "source": [
    "Plot model accuracy against the average size of the top n subclusters, to detect any potential correlation."
   ]
  },
  {
   "cell_type": "code",
   "execution_count": 6,
   "metadata": {},
   "outputs": [
    {
     "data": {
      "image/png": "[encoded data removed]",
      "text/plain": [
       "<Figure size 640x480 with 1 Axes>"
      ]
     },
     "metadata": {},
     "output_type": "display_data"
    }
   ],
   "source": [
    "import matplotlib.pyplot as plt\n",
    "\n",
    "plt.scatter(accuracies, module_sizes.mean(axis=1))\n",
    "plt.xlabel(\"Model accuracy\")\n",
    "plt.ylabel(f\"Average size of top {n} subclusters\")\n",
    "plt.show()"
   ]
  },
  {
   "cell_type": "markdown",
   "metadata": {},
   "source": [
    "Examine the size of the top n subclusters. Here, the rank of subcluster is its importance. Rank 1 is the first most important subcluster, rank 2 the 2nd most important, etc."
   ]
  },
  {
   "cell_type": "code",
   "execution_count": 22,
   "metadata": {},
   "outputs": [
    {
     "name": "stdout",
     "output_type": "stream",
     "text": [
      "(10, 5)\n"
     ]
    },
    {
     "data": {
      "image/png": "[encoded data removed]",
      "text/plain": [
       "<Figure size 640x480 with 1 Axes>"
      ]
     },
     "metadata": {},
     "output_type": "display_data"
    }
   ],
   "source": [
    "# module_sizes = np.zeros((big_loop_iterations, n))\n",
    "print(module_sizes.shape)\n",
    "plt.boxplot(module_sizes)\n",
    "plt.xlabel(\"Subclusters ranked by importance\")\n",
    "plt.ylabel(\"Size of subcluster\")\n",
    "plt.show()"
   ]
  },
  {
   "cell_type": "markdown",
   "metadata": {},
   "source": [
    "Observe the frequencies with which nodes are found in the most important cluster."
   ]
  },
  {
   "cell_type": "code",
   "execution_count": null,
   "metadata": {},
   "outputs": [],
   "source": [
    "from collections import Counter\n",
    "# initialise the list\n",
    "top_modules = []\n",
    "\n",
    "for i in range(big_loop_iterations):\n",
    "    # Load module importances\n",
    "    filename = f\"results_{filepath}/{i}_module_importances.csv\"\n",
    "    module_importances = np.loadtxt(filename, delimiter = \",\")\n",
    "    # Find the index of the highest importance\n",
    "    top_idx = np.argsort(module_importances)[::-1][0]\n",
    "\n",
    "    # Read the modules\n",
    "    filename = f\"results_{filepath}/{i}_modules.csv\"\n",
    "    with open(filename) as fp:\n",
    "        for l, line in enumerate(fp):\n",
    "            # Find the module with the highest importance and add its nodes to the list\n",
    "            if l == top_idx:\n",
    "                top_modules.extend(line.split(\",\"))\n",
    "\n",
    "# count the appearances of nodes in the list\n",
    "print(Counter(top_modules))"
   ]
  }
 ],
 "metadata": {
  "kernelspec": {
   "display_name": "gnnenv_2",
   "language": "python",
   "name": "python3"
  },
  "language_info": {
   "codemirror_mode": {
    "name": "ipython",
    "version": 3
   },
   "file_extension": ".py",
   "mimetype": "text/x-python",
   "name": "python",
   "nbconvert_exporter": "python",
   "pygments_lexer": "ipython3",
   "version": "3.11.0"
  }
 },
 "nbformat": 4,
 "nbformat_minor": 2
}
