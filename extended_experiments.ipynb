{
 "cells": [
  {
   "cell_type": "markdown",
   "metadata": {},
   "source": [
    "## Extension - investigating the size of disease subclusters"
   ]
  },
  {
   "cell_type": "markdown",
   "metadata": {},
   "source": [
    "### Setup\n",
    "\n",
    "Adjust the variables below as desired."
   ]
  },
  {
   "cell_type": "code",
   "execution_count": 13,
   "metadata": {},
   "outputs": [],
   "source": [
    "# The number of iterations to perform (training -> explaining -> finding subclusters)\n",
    "big_loop_iterations = 10\n",
    "\n",
    "# The number of times the explainer should be run in a single iteration\n",
    "explainer_runs = 1\n",
    "\n",
    "# Top n subclusters whose size will be analysed\n",
    "n = 5\n",
    "\n",
    "# Path to store the resulting files\n",
    "filepath = \"11_Jun_subclusters\"\n",
    "\n",
    "# Set up directory for result files\n",
    "import os\n",
    "dir = f'./results_{filepath}'\n",
    "if not os.path.exists(dir):\n",
    "    os.mkdir(dir)"
   ]
  },
  {
   "cell_type": "markdown",
   "metadata": {},
   "source": [
    "### Load dataset\n",
    "\n",
    "The synthetic dataset can be used for testing during development. The KIRC dataset is used for the experiment."
   ]
  },
  {
   "cell_type": "code",
   "execution_count": 2,
   "metadata": {},
   "outputs": [
    {
     "name": "stdout",
     "output_type": "stream",
     "text": [
      "Graph is connected  False\n",
      "Calculate subgraph ...\n",
      "Number of subgraphs:  118\n",
      "Size of subgraph:  2049\n",
      "Graph is connected  True\n",
      "##################\n",
      "# DATASET LOADED #\n",
      "##################\n",
      "\n",
      "Number of nodes: 2049\n",
      "Number of edges: 13588\n",
      "Number of modalities: 2\n"
     ]
    }
   ],
   "source": [
    "from GNNSubNet import GNNSubNet as gnn\n",
    "import pandas as pd\n",
    "import numpy as np\n",
    "\n",
    "# # Kidney data set  ------------------------- #\n",
    "loc   = \"GNNSubNet/datasets/kirc/\"\n",
    "ppi   = f'{loc}/KIDNEY_RANDOM_PPI.txt'\n",
    "feats = [f'{loc}/KIDNEY_RANDOM_Methy_FEATURES.txt', f'{loc}/KIDNEY_RANDOM_mRNA_FEATURES.txt']\n",
    "targ  = f'{loc}/KIDNEY_RANDOM_TARGET.txt'\n",
    "\n",
    "# Synthetic data set  ------------------------- #\n",
    "# loc   = \"GNNSubNet/datasets/synthetic/\"\n",
    "# ppi   = f'{loc}/NETWORK_synthetic.txt'\n",
    "# feats = [f'{loc}/FEATURES_synthetic.txt']\n",
    "# targ  = f'{loc}/TARGET_synthetic.txt'\n",
    "\n",
    "# Read in the synthetic data\n",
    "g = gnn.GNNSubNet(loc, ppi, feats, targ, normalize=False)\n",
    "\n",
    "# Get some general information about the data dimension\n",
    "g.summary()"
   ]
  },
  {
   "cell_type": "markdown",
   "metadata": {},
   "source": [
    "### Run\n",
    "\n",
    "For the given number of big_loop_iterations, this cell trains the GNN model, runs the explainer to find the global explanation, and performs disease subnetwork detection. \n",
    "\n",
    "The modules found and the list of module importances in each iteration are saved in the results folder, these can be used for further analysis.\n",
    "\n",
    "NB: running on KIRC data for 10 iterations can take 1 to 2 hours!"
   ]
  },
  {
   "cell_type": "code",
   "execution_count": null,
   "metadata": {},
   "outputs": [],
   "source": [
    "import shutil\n",
    "\n",
    "accuracies = []\n",
    "most_important_communities = [] \n",
    "community_sizes = np.zeros((big_loop_iterations, n))\n",
    "\n",
    "for i in range(big_loop_iterations):\n",
    "    g = gnn.GNNSubNet(loc, ppi, feats, targ, normalize=False)\n",
    "    g.train()\n",
    "    accuracies.append(g.accuracy)\n",
    "    g.explain(explainer_runs)\n",
    "\n",
    "    # Copy communities and importances to separate folder for later analysis\n",
    "    shutil.copyfile(f\"{loc}\\communities_scores.txt\", f\"results_{filepath}/{i}_communities_scores.txt\")\n",
    "    shutil.copyfile(f\"{loc}\\communities.txt\", f\"results_{filepath}/{i}_communities.txt\")\n",
    "    shutil.copyfile(f\"{loc}\\gene_names.txt\", f\"results_{filepath}/{i}_gene_names.txt\")"
   ]
  },
  {
   "cell_type": "markdown",
   "metadata": {},
   "source": [
    "### Results\n",
    "Helper methods: these read the data that was saved from the run and are used to visualise the results."
   ]
  },
  {
   "cell_type": "code",
   "execution_count": 4,
   "metadata": {},
   "outputs": [],
   "source": [
    "import numpy as np\n",
    "## Helper methods to read the communities detected by GNNSubNet\n",
    "\n",
    "def read_communities(file_path):\n",
    "    communities = []\n",
    "    with open(file_path, 'r') as file:\n",
    "        for line in file:\n",
    "            community = [int(num) for num in line.strip().split(',') if num]\n",
    "            communities.append(community)\n",
    "    return communities\n",
    "\n",
    "def read_community_importances(file_path):\n",
    "    community_importances = []\n",
    "    with open(file_path, 'r') as file:\n",
    "        for line in file:\n",
    "          community_importances.append(float(line.strip()))\n",
    "    return community_importances\n",
    "\n",
    "def nth_most_important_community(n, communities, importances, gene_names_path):\n",
    "    sorted_indices = np.argsort(importances)[::-1]\n",
    "    sorted_communities = []\n",
    "    for index in sorted_indices:\n",
    "      sorted_communities.append(communities[index])\n",
    "    gene_names = []\n",
    "    with open(gene_names_path, 'r') as file:\n",
    "        for line in file:\n",
    "          gene_names.append(line.strip())\n",
    "    ans = []\n",
    "    for elem in sorted_communities[n]:\n",
    "        ans.append(gene_names[elem])\n",
    "    return ans"
   ]
  },
  {
   "cell_type": "markdown",
   "metadata": {},
   "source": [
    "Examine the size of the top n subclusters. Here, the rank of subcluster is its importance. Rank 1 is the first most important subcluster, rank 2 the 2nd most important, etc.\n",
    "\n",
    "\n",
    "Examine the frequency with which genes occur in the top 1 (most important) subcluster."
   ]
  },
  {
   "cell_type": "code",
   "execution_count": 15,
   "metadata": {},
   "outputs": [
    {
     "name": "stdout",
     "output_type": "stream",
     "text": [
      "Most important community: \n",
      "Iteration 0:  ['ABCC8', 'ABCC9', 'ADCY1', 'ADCY2', 'ADCY3', 'ADCY5', 'ADCY7', 'ADCY8', 'ADCY9', 'ADCYAP1R1', 'AKAP1', 'DRD2', 'DRD5', 'GABBR1', 'GABBR2', 'GHRHR', 'GNAS', 'GPR161', 'GPR37', 'GPR83', 'GRM2', 'GRM3', 'HTR1A', 'HTR5A', 'KCNJ6', 'KCNJ8', 'LHCGR', 'LIPE', 'OPRL1', 'OPRM1', 'PCLO', 'PDE4B', 'PDYN', 'PNLIP', 'PNPLA3', 'PRKACA', 'PRKACG', 'RAPGEF4', 'RIMS2', 'SLC6A3', 'SLC6A4', 'TAAR9', 'TSHR']\n",
      "Iteration 1:  ['ASZ1', 'DDX4', 'MAEL', 'PIWIL1', 'PIWIL2', 'PIWIL4', 'TDRD1', 'TDRD5', 'TDRD6', 'TDRD7', 'TDRD9']\n",
      "Iteration 2:  ['AHI1', 'AKAP9', 'ALMS1', 'C2CD3', 'CC2D2A', 'CDK5RAP2', 'CENPJ', 'CEP135', 'CEP152', 'CEP164', 'CEP192', 'CEP250', 'CEP57', 'CEP63', 'CEP78', 'CEP97', 'FBF1', 'HAUS5', 'HAUS6', 'INVS', 'IQCB1', 'KIF24', 'NEDD1', 'NINL', 'NME7', 'NPHP1', 'NPHP4', 'NUMA1', 'ODF2', 'PCM1', 'PCNT', 'PKN1', 'PLK2', 'PLK4', 'RPGRIP1', 'RPGRIP1L', 'SASS6', 'SCLT1', 'SDCCAG8', 'SFI1', 'TBCD', 'TCTN2', 'TMEM67', 'TUBB2B', 'TUBGCP2', 'TUBGCP3', 'TUBGCP4', 'TUBGCP6']\n",
      "Iteration 3:  ['ACTR8', 'BRD8', 'EP400', 'EPC1', 'EPC2', 'INO80', 'NFRKB', 'TAF2', 'TAF3', 'TAF4', 'TAF5', 'TAF5L', 'TRRAP']\n",
      "Iteration 4:  ['ABT1', 'BMS1', 'DCAF13', 'DDX18', 'DDX21', 'DDX24', 'DIS3', 'DIS3L', 'DNTTIP2', 'EDC4', 'ESF1', 'EXOSC9', 'FBL', 'FTSJ3', 'GNL2', 'HEATR1', 'MPHOSPH10', 'MYBBP1A', 'NAT10', 'NCL', 'NMD3', 'NOL10', 'NOL6', 'NOP14', 'NOP2', 'NOP58', 'PATL1', 'PDCD11', 'PES1', 'PIH1D1', 'POLR1B', 'PWP2', 'RBM28', 'RRP1', 'RRP12', 'RRP9', 'SKIV2L', 'TAF1A', 'TBL3', 'TOP1', 'TSR1', 'UBTF', 'UTP15', 'UTP20', 'WDR3', 'WDR75', 'XRN1', 'ZFP36', 'ZFP36L1']\n",
      "Iteration 5:  ['AARS', 'AARS2', 'ADSS', 'ALDH1L1', 'ALDH1L2', 'AMPD1', 'AMPD3', 'ATIC', 'CARS', 'DARS', 'EPRS', 'FARS2', 'FARSA', 'FARSB', 'FPGS', 'GART', 'GMPS', 'IARS', 'IARS2', 'IMPDH2', 'MARS', 'MTHFD1', 'MTHFD1L', 'MTHFR', 'MTR', 'MTRR', 'PFAS', 'QARS', 'RARS', 'RARS2', 'SARS', 'TARS', 'YARS']\n",
      "Iteration 6:  ['EGR2', 'HOXA2', 'HOXB13', 'HOXB2', 'MEIS1', 'MEIS2', 'TEAD1', 'TEAD4']\n",
      "Iteration 7:  ['ABT1', 'BMS1', 'DCAF13', 'DDX18', 'DDX21', 'DDX24', 'DIS3L', 'DNTTIP2', 'ESF1', 'EXOSC9', 'FBL', 'FTSJ3', 'GNL2', 'HEATR1', 'MPHOSPH10', 'MYBBP1A', 'NAT10', 'NCL', 'NMD3', 'NOL10', 'NOL6', 'NOP14', 'NOP2', 'NOP58', 'PDCD11', 'PES1', 'PIH1D1', 'POLR1B', 'PWP2', 'RBM28', 'RRP1', 'RRP12', 'RRP9', 'TBL3', 'TOP1', 'TSR1', 'UTP15', 'UTP20', 'WDR3', 'WDR75']\n",
      "Iteration 8:  ['AOX1', 'ARSB', 'CES1', 'CTSA', 'CYP2B6', 'CYP2C19', 'CYP2C9', 'CYP3A4', 'CYP3A7', 'CYP4F2', 'EPHX1', 'FMO1', 'FMO3', 'FUCA2', 'GLB1', 'GRN', 'GUSB', 'HEXA', 'LCT', 'MAN2B1', 'MPO', 'PPIG', 'UGT1A1', 'UGT1A10', 'UGT1A3', 'UGT2B7']\n",
      "Iteration 9:  ['ABCC8', 'ABCC9', 'ADCY1', 'ADCY2', 'ADCY3', 'ADCY5', 'ADCY7', 'ADCY8', 'ADCY9', 'ADCYAP1R1', 'AKAP1', 'DRD2', 'DRD5', 'GABBR1', 'GABBR2', 'GHRHR', 'GNAS', 'GPR161', 'GPR37', 'GPR83', 'GRM2', 'GRM3', 'HTR1A', 'HTR5A', 'KCNJ6', 'KCNJ8', 'LHCGR', 'LIPE', 'OPRL1', 'OPRM1', 'PCLO', 'PDE4B', 'PDYN', 'PNLIP', 'PNPLA3', 'PRKACA', 'PRKACG', 'RAPGEF4', 'RIMS2', 'SLC6A3', 'SLC6A4', 'TAAR9', 'TSHR']\n",
      "Averages:\n",
      "[31.4 39.2 48.  58.2 43.4]\n",
      "Minimum:\n",
      "[8. 8. 8. 4. 7.]\n",
      "Maximum\n",
      "[ 49.  92. 127. 210.  82.]\n",
      "Deviation\n",
      "[15.04127654 27.54922866 36.20220988 65.30512997 25.00079999]\n"
     ]
    },
    {
     "data": {
      "image/png": "[encoded data removed]",
      "text/plain": [
       "<Figure size 640x480 with 1 Axes>"
      ]
     },
     "metadata": {},
     "output_type": "display_data"
    },
    {
     "name": "stdout",
     "output_type": "stream",
     "text": [
      "Number of appearances in the topmost important community over 10 iterations: \n",
      "Counter({'ABCC8': 2, 'ABCC9': 2, 'ADCY1': 2, 'ADCY2': 2, 'ADCY3': 2, 'ADCY5': 2, 'ADCY7': 2, 'ADCY8': 2, 'ADCY9': 2, 'ADCYAP1R1': 2, 'AKAP1': 2, 'DRD2': 2, 'DRD5': 2, 'GABBR1': 2, 'GABBR2': 2, 'GHRHR': 2, 'GNAS': 2, 'GPR161': 2, 'GPR37': 2, 'GPR83': 2, 'GRM2': 2, 'GRM3': 2, 'HTR1A': 2, 'HTR5A': 2, 'KCNJ6': 2, 'KCNJ8': 2, 'LHCGR': 2, 'LIPE': 2, 'OPRL1': 2, 'OPRM1': 2, 'PCLO': 2, 'PDE4B': 2, 'PDYN': 2, 'PNLIP': 2, 'PNPLA3': 2, 'PRKACA': 2, 'PRKACG': 2, 'RAPGEF4': 2, 'RIMS2': 2, 'SLC6A3': 2, 'SLC6A4': 2, 'TAAR9': 2, 'TSHR': 2, 'ABT1': 2, 'BMS1': 2, 'DCAF13': 2, 'DDX18': 2, 'DDX21': 2, 'DDX24': 2, 'DIS3L': 2, 'DNTTIP2': 2, 'ESF1': 2, 'EXOSC9': 2, 'FBL': 2, 'FTSJ3': 2, 'GNL2': 2, 'HEATR1': 2, 'MPHOSPH10': 2, 'MYBBP1A': 2, 'NAT10': 2, 'NCL': 2, 'NMD3': 2, 'NOL10': 2, 'NOL6': 2, 'NOP14': 2, 'NOP2': 2, 'NOP58': 2, 'PDCD11': 2, 'PES1': 2, 'PIH1D1': 2, 'POLR1B': 2, 'PWP2': 2, 'RBM28': 2, 'RRP1': 2, 'RRP12': 2, 'RRP9': 2, 'TBL3': 2, 'TOP1': 2, 'TSR1': 2, 'UTP15': 2, 'UTP20': 2, 'WDR3': 2, 'WDR75': 2, 'ASZ1': 1, 'DDX4': 1, 'MAEL': 1, 'PIWIL1': 1, 'PIWIL2': 1, 'PIWIL4': 1, 'TDRD1': 1, 'TDRD5': 1, 'TDRD6': 1, 'TDRD7': 1, 'TDRD9': 1, 'AHI1': 1, 'AKAP9': 1, 'ALMS1': 1, 'C2CD3': 1, 'CC2D2A': 1, 'CDK5RAP2': 1, 'CENPJ': 1, 'CEP135': 1, 'CEP152': 1, 'CEP164': 1, 'CEP192': 1, 'CEP250': 1, 'CEP57': 1, 'CEP63': 1, 'CEP78': 1, 'CEP97': 1, 'FBF1': 1, 'HAUS5': 1, 'HAUS6': 1, 'INVS': 1, 'IQCB1': 1, 'KIF24': 1, 'NEDD1': 1, 'NINL': 1, 'NME7': 1, 'NPHP1': 1, 'NPHP4': 1, 'NUMA1': 1, 'ODF2': 1, 'PCM1': 1, 'PCNT': 1, 'PKN1': 1, 'PLK2': 1, 'PLK4': 1, 'RPGRIP1': 1, 'RPGRIP1L': 1, 'SASS6': 1, 'SCLT1': 1, 'SDCCAG8': 1, 'SFI1': 1, 'TBCD': 1, 'TCTN2': 1, 'TMEM67': 1, 'TUBB2B': 1, 'TUBGCP2': 1, 'TUBGCP3': 1, 'TUBGCP4': 1, 'TUBGCP6': 1, 'ACTR8': 1, 'BRD8': 1, 'EP400': 1, 'EPC1': 1, 'EPC2': 1, 'INO80': 1, 'NFRKB': 1, 'TAF2': 1, 'TAF3': 1, 'TAF4': 1, 'TAF5': 1, 'TAF5L': 1, 'TRRAP': 1, 'DIS3': 1, 'EDC4': 1, 'PATL1': 1, 'SKIV2L': 1, 'TAF1A': 1, 'UBTF': 1, 'XRN1': 1, 'ZFP36': 1, 'ZFP36L1': 1, 'AARS': 1, 'AARS2': 1, 'ADSS': 1, 'ALDH1L1': 1, 'ALDH1L2': 1, 'AMPD1': 1, 'AMPD3': 1, 'ATIC': 1, 'CARS': 1, 'DARS': 1, 'EPRS': 1, 'FARS2': 1, 'FARSA': 1, 'FARSB': 1, 'FPGS': 1, 'GART': 1, 'GMPS': 1, 'IARS': 1, 'IARS2': 1, 'IMPDH2': 1, 'MARS': 1, 'MTHFD1': 1, 'MTHFD1L': 1, 'MTHFR': 1, 'MTR': 1, 'MTRR': 1, 'PFAS': 1, 'QARS': 1, 'RARS': 1, 'RARS2': 1, 'SARS': 1, 'TARS': 1, 'YARS': 1, 'EGR2': 1, 'HOXA2': 1, 'HOXB13': 1, 'HOXB2': 1, 'MEIS1': 1, 'MEIS2': 1, 'TEAD1': 1, 'TEAD4': 1, 'AOX1': 1, 'ARSB': 1, 'CES1': 1, 'CTSA': 1, 'CYP2B6': 1, 'CYP2C19': 1, 'CYP2C9': 1, 'CYP3A4': 1, 'CYP3A7': 1, 'CYP4F2': 1, 'EPHX1': 1, 'FMO1': 1, 'FMO3': 1, 'FUCA2': 1, 'GLB1': 1, 'GRN': 1, 'GUSB': 1, 'HEXA': 1, 'LCT': 1, 'MAN2B1': 1, 'MPO': 1, 'PPIG': 1, 'UGT1A1': 1, 'UGT1A10': 1, 'UGT1A3': 1, 'UGT2B7': 1})\n"
     ]
    }
   ],
   "source": [
    "import numpy as np\n",
    "import matplotlib.pyplot as plt\n",
    "from collections import Counter\n",
    "most_important_communities = [] \n",
    "community_sizes = np.zeros((big_loop_iterations, n))\n",
    "\n",
    "print(\"Most important community: \")\n",
    "for i in range(big_loop_iterations):\n",
    "    for j in range(n):\n",
    "        comms = read_communities(f\"results_{filepath}/{i}_communities.txt\")\n",
    "        imps = read_community_importances(f\"results_{filepath}/{i}_communities_scores.txt\")\n",
    "        community = nth_most_important_community(j, comms, imps, f\"{loc}/gene_names.txt\")\n",
    "        community_sizes[i,j] = len(community)\n",
    "        if j == 0:\n",
    "            most_important_communities.extend(community)\n",
    "            community.sort()\n",
    "            print(f\"Iteration {i}: \", community)\n",
    "\n",
    "print(\"Averages:\")\n",
    "print(community_sizes.mean(axis=0))\n",
    "print(\"Minimum:\")\n",
    "print(community_sizes.min(axis=0))\n",
    "print(\"Maximum\")\n",
    "print(community_sizes.max(axis=0))\n",
    "print(\"Deviation\")\n",
    "print(community_sizes.std(axis=0))\n",
    "plt.boxplot(community_sizes)\n",
    "plt.xlabel(\"Subclusters ranked by importance\")\n",
    "plt.ylabel(\"Size of subcluster\")\n",
    "plt.show()\n",
    "\n",
    "# Count the number of times each gene occurs in the topmost important community across all iterations\n",
    "print(f\"Number of appearances in the topmost important community over {big_loop_iterations} iterations: \")\n",
    "print(Counter(most_important_communities))\n"
   ]
  }
 ],
 "metadata": {
  "kernelspec": {
   "display_name": "gnnenv_2",
   "language": "python",
   "name": "python3"
  },
  "language_info": {
   "codemirror_mode": {
    "name": "ipython",
    "version": 3
   },
   "file_extension": ".py",
   "mimetype": "text/x-python",
   "name": "python",
   "nbconvert_exporter": "python",
   "pygments_lexer": "ipython3",
   "version": "3.11.0"
  }
 },
 "nbformat": 4,
 "nbformat_minor": 2
}
